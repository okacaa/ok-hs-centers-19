{
 "cells": [
  {
   "cell_type": "code",
   "execution_count": 1,
   "metadata": {},
   "outputs": [],
   "source": [
    "import os\n",
    "import numpy as np\n",
    "import pandas as pd"
   ]
  },
  {
   "cell_type": "code",
   "execution_count": 2,
   "metadata": {},
   "outputs": [
    {
     "name": "stdout",
     "output_type": "stream",
     "text": [
      "<class 'pandas.core.frame.DataFrame'>\n",
      "RangeIndex: 21637 entries, 0 to 21636\n",
      "Data columns (total 21 columns):\n",
      "name                      21637 non-null object\n",
      "grantee                   21637 non-null object\n",
      "grantNumber               21637 non-null object\n",
      "delegateNo                21637 non-null int64\n",
      "centerType                21637 non-null object\n",
      "programType               21637 non-null object\n",
      "programDelegateName       21637 non-null object\n",
      "programMainPhoneNumber    0 non-null float64\n",
      "programAddress            21631 non-null object\n",
      "programCity               21631 non-null object\n",
      "programState              21631 non-null object\n",
      "programZipCode            21612 non-null object\n",
      "programCounty             21423 non-null object\n",
      "phone                     21150 non-null object\n",
      "address                   21637 non-null object\n",
      "city                      21637 non-null object\n",
      "state                     21637 non-null object\n",
      "zip                       21637 non-null object\n",
      "county                    21499 non-null object\n",
      "latitude                  21637 non-null float64\n",
      "longitude                 21637 non-null float64\n",
      "dtypes: float64(3), int64(1), object(17)\n",
      "memory usage: 3.5+ MB\n"
     ]
    }
   ],
   "source": [
    "df = pd.read_csv(\"https://eclkc.ohs.acf.hhs.gov/sites/default/files/locatordata/ALL_all.csv\")\n",
    "df.info()"
   ]
  },
  {
   "cell_type": "code",
   "execution_count": 3,
   "metadata": {},
   "outputs": [],
   "source": [
    "df.to_csv('inputs/ALL_all.csv')"
   ]
  },
  {
   "cell_type": "code",
   "execution_count": 4,
   "metadata": {},
   "outputs": [
    {
     "name": "stdout",
     "output_type": "stream",
     "text": [
      "<class 'pandas.core.frame.DataFrame'>\n",
      "RangeIndex: 21637 entries, 0 to 21636\n",
      "Data columns (total 22 columns):\n",
      "name                      21637 non-null object\n",
      "grantee                   21637 non-null object\n",
      "grantNumber               21637 non-null object\n",
      "delegateNo                21637 non-null int64\n",
      "centerType                21637 non-null object\n",
      "programType               21637 non-null object\n",
      "programDelegateName       21637 non-null object\n",
      "programMainPhoneNumber    0 non-null float64\n",
      "programAddress            21631 non-null object\n",
      "programCity               21631 non-null object\n",
      "programState              21631 non-null object\n",
      "programZipCode            21612 non-null object\n",
      "programCounty             21423 non-null object\n",
      "phone                     21150 non-null object\n",
      "address                   21637 non-null object\n",
      "city                      21637 non-null object\n",
      "state                     21637 non-null object\n",
      "zip                       21637 non-null object\n",
      "county                    21499 non-null object\n",
      "latitude                  21637 non-null float64\n",
      "longitude                 21637 non-null float64\n",
      "programname               21637 non-null object\n",
      "dtypes: float64(3), int64(1), object(18)\n",
      "memory usage: 3.6+ MB\n"
     ]
    }
   ],
   "source": [
    "df['programname'] = df.programDelegateName.replace('Big Five Community Services, Inc.',\n",
    "                                                   'Big Five Community Services') \\\n",
    ".replace(['Cherokee Nation Early Childhood Unit',\n",
    "          'Cherokee Nation Early Head Start'],\n",
    "         'Cherokee Nation') \\\n",
    ".replace('CHEYENNE & ARAPAHO TRIBES OF OKLAHOMA',\n",
    "         'Cheyenne & Arapaho Tribes of Oklahoma') \\\n",
    ".replace('CHOCTAW NATION OF OKLAHOMA EDUCATION DEPARTMENT',\n",
    "         'Choctaw Nation of Oklahoma') \\\n",
    ".replace('Central Tribes of the Shawnee Area, Inc.',\n",
    "         'Central Tribes of the Shawnee Area') \\\n",
    ".replace('CHEYENNE & ARAPAHO TRIBES OF OKLAHOMA',\n",
    "         'Cheyenne & Arapaho Tribes of Oklahoma') \\\n",
    ".replace('CMTY ACTION AGCY OF OK CY & CTY & OK/CANADIAN CTYS INC',\n",
    "         'CAA of OKC & OK/Canadian Counties') \\\n",
    ".replace(['Community Action Project of Tulsa County (CAP)',\n",
    "          'Community Action Project of Tulsa County, Inc.'],\n",
    "         'Community Action Project of Tulsa County') \\\n",
    ".replace('COMMUNITY ACTION RESOURCE AND DEVELOPMENT, INC.',\n",
    "         'Community Action Resource and Development') \\\n",
    ".replace('Crossroads Youth & Family Services, Inc.',\n",
    "         'Crossroads Youth & Family Services') \\\n",
    ".replace('Delta Community Action Foundation, Inc.',\n",
    "         'Delta Community Action Foundation') \\\n",
    ".replace('Green Country Behavioral Health Services, Inc.',\n",
    "         'Green Country Behavioral Health Services') \\\n",
    ".replace('INCA COMMUNITY SERVICES, INC',\n",
    "         'INCA Community Services') \\\n",
    ".replace('IOWA TRIBE OF OKLAHOMA',\n",
    "         'Iowa Tribe of Oklahoma') \\\n",
    ".replace('KI BOIS COMMUNITY ACTION FOUNDATION, INC',\n",
    "         'KI BOIS Community Action Foundation') \\\n",
    ".replace('Kickapoo Head Start',\n",
    "         'Kickapoo Tribe of Oklahoma') \\\n",
    ".replace('KIOWA TRIBE (ONAP)',\n",
    "         'Kiowa Tribe') \\\n",
    ".replace(['LITTLE DIXIE COMMUNITY ACTION AGENCY, INC',\n",
    "          'Little Dixie Community Action Agency, Inc.'],\n",
    "         'Little Dixie Community Action Agency') \\\n",
    ".replace('Muscogee (Creek) Nation Head Start',\n",
    "         'Muscogee (Creek) Nation') \\\n",
    ".replace('NATIVE AMERICAN COALITION OF TULSA',\n",
    "         'Native American Coalition of Tulsa') \\\n",
    ".replace('Northeast Oklahoma Community Action Agency, Inc.',\n",
    "         'Northeast Oklahoma Community Action Agency') \\\n",
    ".replace('OSAGE NATION',\n",
    "         'Osage Nation') \\\n",
    ".replace('OTOE-MISSOURIA TRIBAL COUNCIL',\n",
    "         'Otoe-Missouria Tribal Council') \\\n",
    ".replace('SEMINOLE NATION OF OKLAHOMA',\n",
    "         'Seminole Nation of Oklahoma') \\\n",
    ".replace(['SOUTHWEST OK COMMUNITY ACTION GROUP, INC',\n",
    "          'Southwest Oklahoma Community Action Group, Inc.'],\n",
    "         'Southwest Oklahoma Community Action Group') \\\n",
    ".replace(['SUNBEAM FAMILY SERVICES INC',\n",
    "          'SUNBEAM FAMILY SERVICES, INC',\n",
    "          'SUNBEAM FAMILY SERVICES, INC.',\n",
    "          'Sunbeam Family Services, Inc.'],\n",
    "         'Sunbeam Family Services') \\\n",
    ".replace('The Chickasaw Nation Head Start',\n",
    "         'The Chickasaw Nation') \\\n",
    ".replace('Tulsa Educare, Inc.',\n",
    "         'Tulsa Educare') \\\n",
    ".replace('United Community Action Program, Inc.',\n",
    "         'United Community Action Program') \\\n",
    ".replace('WASHITA VALLEY COMMUNITY ACTION COUNCIL, INC',\n",
    "         'Washita Valley Community Action Council')\n",
    "\n",
    "df.info()"
   ]
  },
  {
   "cell_type": "code",
   "execution_count": 5,
   "metadata": {},
   "outputs": [
    {
     "name": "stdout",
     "output_type": "stream",
     "text": [
      "<class 'pandas.core.frame.DataFrame'>\n",
      "Int64Index: 500 entries, 14515 to 15014\n",
      "Data columns (total 8 columns):\n",
      "programname    500 non-null object\n",
      "county         499 non-null object\n",
      "name           500 non-null object\n",
      "address        500 non-null object\n",
      "city           500 non-null object\n",
      "state          500 non-null object\n",
      "zip            500 non-null object\n",
      "phone          498 non-null object\n",
      "dtypes: object(8)\n",
      "memory usage: 35.2+ KB\n"
     ]
    }
   ],
   "source": [
    "ok = df.loc[df['state'] == 'OK',['programname','county','name','address','city','state','zip','phone']]\n",
    "ok.info()"
   ]
  },
  {
   "cell_type": "code",
   "execution_count": 6,
   "metadata": {},
   "outputs": [
    {
     "name": "stdout",
     "output_type": "stream",
     "text": [
      "<class 'pandas.core.frame.DataFrame'>\n",
      "Int64Index: 500 entries, 14515 to 15014\n",
      "Data columns (total 9 columns):\n",
      "programname    500 non-null object\n",
      "county         499 non-null object\n",
      "name           500 non-null object\n",
      "address        500 non-null object\n",
      "city           500 non-null object\n",
      "state          500 non-null object\n",
      "zip            500 non-null object\n",
      "phone          498 non-null object\n",
      "contact        500 non-null object\n",
      "dtypes: object(9)\n",
      "memory usage: 39.1+ KB\n"
     ]
    },
    {
     "data": {
      "text/plain": [
       "programname     35\n",
       "county          73\n",
       "name           422\n",
       "address        407\n",
       "city           214\n",
       "state            1\n",
       "zip            393\n",
       "phone          416\n",
       "contact        427\n",
       "dtype: int64"
      ]
     },
     "execution_count": 6,
     "metadata": {},
     "output_type": "execute_result"
    }
   ],
   "source": [
    "ok['contact'] = ok[['address','city','state','zip','phone']].astype(str).apply(' '.join, axis=1)\n",
    "ok.info()\n",
    "ok.nunique()"
   ]
  },
  {
   "cell_type": "code",
   "execution_count": 8,
   "metadata": {},
   "outputs": [
    {
     "name": "stdout",
     "output_type": "stream",
     "text": [
      "<class 'pandas.core.frame.DataFrame'>\n",
      "MultiIndex: 500 entries, (Cheyenne & Arapaho Tribes of Oklahoma, Custer County) to (Community Action Development Corporation, Washita County)\n",
      "Data columns (total 7 columns):\n",
      "name       500 non-null object\n",
      "address    500 non-null object\n",
      "city       500 non-null object\n",
      "state      500 non-null object\n",
      "zip        500 non-null object\n",
      "phone      498 non-null object\n",
      "contact    500 non-null object\n",
      "dtypes: object(7)\n",
      "memory usage: 29.3+ KB\n"
     ]
    }
   ],
   "source": [
    "dfin = ok.set_index(['programname', 'county'])\n",
    "dfin.info()"
   ]
  },
  {
   "cell_type": "code",
   "execution_count": 9,
   "metadata": {},
   "outputs": [],
   "source": [
    "dfin.to_csv('outputs/ok_hs_centers_19.csv')"
   ]
  }
 ],
 "metadata": {
  "kernelspec": {
   "display_name": "Python 3",
   "language": "python",
   "name": "python3"
  },
  "language_info": {
   "codemirror_mode": {
    "name": "ipython",
    "version": 3
   },
   "file_extension": ".py",
   "mimetype": "text/x-python",
   "name": "python",
   "nbconvert_exporter": "python",
   "pygments_lexer": "ipython3",
   "version": "3.7.3"
  }
 },
 "nbformat": 4,
 "nbformat_minor": 2
}
